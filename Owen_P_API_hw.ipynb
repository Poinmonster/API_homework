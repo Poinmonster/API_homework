{
 "cells": [
  {
   "cell_type": "code",
   "execution_count": 41,
   "metadata": {},
   "outputs": [
    {
     "name": "stdout",
     "output_type": "stream",
     "text": [
      "Requirement already satisfied: citipy in /anaconda3/lib/python3.7/site-packages (0.0.5)\n",
      "Requirement already satisfied: kdtree>=0.12 in /anaconda3/lib/python3.7/site-packages (from citipy) (0.16)\n",
      "\u001b[33mYou are using pip version 10.0.1, however version 19.0.1 is available.\n",
      "You should consider upgrading via the 'pip install --upgrade pip' command.\u001b[0m\n"
     ]
    }
   ],
   "source": [
    "import pandas as pd\n",
    "import matplotlib.pyplot as plt\n",
    "import requests\n",
    "from random import random\n",
    "!pip install citipy\n",
    "from citipy import citipy"
   ]
  },
  {
   "cell_type": "code",
   "execution_count": null,
   "metadata": {},
   "outputs": [],
   "source": [
    "\"\"\"\n",
    "Four observations on this data:\n",
    "1. Temperature peaks around the equator. The highest latitudes are siginificantly colder than everywhere else.\n",
    "2. Cloudiness seems to cluster around certain bands (namely 0, 90+), which may reflect how this data is measured.\n",
    "3. Wind speed follows a similar, if less pronounced trend as temperature--lowest around the equator, peaking at higher latitudes.\n",
    "4. More a caveat than an observation: it's February. It's summer south of the equator, and it's not hurricane season. \n",
    "This data would be dramatically different at other parts of the year.\n",
    "\"\"\""
   ]
  },
  {
   "cell_type": "code",
   "execution_count": 3,
   "metadata": {},
   "outputs": [
    {
     "name": "stdout",
     "output_type": "stream",
     "text": [
      "/Users/owenpoindexter/Desktop/API_homework\n"
     ]
    }
   ],
   "source": []
  },
  {
   "cell_type": "code",
   "execution_count": 4,
   "metadata": {},
   "outputs": [],
   "source": [
    "base_url = \"http://api.openweathermap.org/data/2.5/weather?q=\"\n",
    "call_city = \"Chicago\"\n",
    "api_key = \"&APPID=06adbdce6dd87a612650d7b0cb3c8061\""
   ]
  },
  {
   "cell_type": "code",
   "execution_count": 5,
   "metadata": {},
   "outputs": [],
   "source": [
    "call_url = base_url + call_city + api_key"
   ]
  },
  {
   "cell_type": "code",
   "execution_count": 18,
   "metadata": {},
   "outputs": [],
   "source": []
  },
  {
   "cell_type": "raw",
   "metadata": {},
   "source": [
    "response = requests.get(call_url).json()\n",
    "response"
   ]
  },
  {
   "cell_type": "code",
   "execution_count": 30,
   "metadata": {},
   "outputs": [],
   "source": [
    "lat_study = pd.DataFrame(columns=['City', 'Latitude', 'High Temp', 'Humidity', 'Clouds', \"Wind Speed\"])"
   ]
  },
  {
   "cell_type": "code",
   "execution_count": 31,
   "metadata": {},
   "outputs": [
    {
     "data": {
      "text/html": [
       "<div>\n",
       "<style scoped>\n",
       "    .dataframe tbody tr th:only-of-type {\n",
       "        vertical-align: middle;\n",
       "    }\n",
       "\n",
       "    .dataframe tbody tr th {\n",
       "        vertical-align: top;\n",
       "    }\n",
       "\n",
       "    .dataframe thead th {\n",
       "        text-align: right;\n",
       "    }\n",
       "</style>\n",
       "<table border=\"1\" class=\"dataframe\">\n",
       "  <thead>\n",
       "    <tr style=\"text-align: right;\">\n",
       "      <th></th>\n",
       "      <th>City</th>\n",
       "      <th>Latitude</th>\n",
       "      <th>High Temp</th>\n",
       "      <th>Humidity</th>\n",
       "      <th>Clouds</th>\n",
       "      <th>Wind Speed</th>\n",
       "    </tr>\n",
       "  </thead>\n",
       "  <tbody>\n",
       "  </tbody>\n",
       "</table>\n",
       "</div>"
      ],
      "text/plain": [
       "Empty DataFrame\n",
       "Columns: [City, Latitude, High Temp, Humidity, Clouds, Wind Speed]\n",
       "Index: []"
      ]
     },
     "execution_count": 31,
     "metadata": {},
     "output_type": "execute_result"
    }
   ],
   "source": [
    "lat_study"
   ]
  },
  {
   "cell_type": "code",
   "execution_count": 32,
   "metadata": {},
   "outputs": [
    {
     "name": "stdout",
     "output_type": "stream",
     "text": [
      "No json found\n",
      "No json found\n",
      "No json found\n",
      "No json found\n",
      "No json found\n",
      "No json found\n",
      "No json found\n",
      "No json found\n",
      "No json found\n",
      "No json found\n",
      "No json found\n",
      "No json found\n",
      "No json found\n",
      "No json found\n",
      "No json found\n",
      "No json found\n",
      "No json found\n",
      "No json found\n",
      "No json found\n",
      "No json found\n",
      "No json found\n",
      "No json found\n",
      "No json found\n",
      "No json found\n",
      "No json found\n",
      "No json found\n",
      "No json found\n",
      "No json found\n",
      "No json found\n",
      "No json found\n",
      "No json found\n",
      "No json found\n",
      "No json found\n",
      "No json found\n",
      "No json found\n",
      "No json found\n",
      "No json found\n",
      "No json found\n",
      "No json found\n",
      "No json found\n",
      "No json found\n",
      "No json found\n",
      "No json found\n",
      "No json found\n"
     ]
    }
   ],
   "source": [
    "for i in range (0,500):\n",
    "    new_lat = (180*random())-90\n",
    "    new_long = (360*random())-180\n",
    "    new_city = citipy.nearest_city(new_lat, new_long)\n",
    "    lat_study.loc[i, 'City'] = new_city.city_name\n",
    "    call_city = str(new_city.city_name)\n",
    "    try:\n",
    "        call_url = base_url + call_city + api_key\n",
    "        response = requests.get(call_url).json()\n",
    "        lat_study.loc[i, 'Latitude'] = response['coord']['lat']\n",
    "        lat_study.loc[i, 'High Temp'] = (response['main']['temp']) - 273.15\n",
    "        lat_study.loc[i, 'Humidity'] = response['main']['humidity']\n",
    "        lat_study.loc[i, 'Clouds'] = response['clouds']['all']\n",
    "        lat_study.loc[i, 'Wind Speed'] = response['wind']['speed']\n",
    "    except (KeyError, IndexError, ValueError):\n",
    "              print(\"No json found\")"
   ]
  },
  {
   "cell_type": "code",
   "execution_count": 25,
   "metadata": {},
   "outputs": [],
   "source": [
    "lat_study['Abs Latitude'] = abs(lat_study[\"Latitude\"])"
   ]
  },
  {
   "cell_type": "code",
   "execution_count": 33,
   "metadata": {},
   "outputs": [
    {
     "data": {
      "text/html": [
       "<div>\n",
       "<style scoped>\n",
       "    .dataframe tbody tr th:only-of-type {\n",
       "        vertical-align: middle;\n",
       "    }\n",
       "\n",
       "    .dataframe tbody tr th {\n",
       "        vertical-align: top;\n",
       "    }\n",
       "\n",
       "    .dataframe thead th {\n",
       "        text-align: right;\n",
       "    }\n",
       "</style>\n",
       "<table border=\"1\" class=\"dataframe\">\n",
       "  <thead>\n",
       "    <tr style=\"text-align: right;\">\n",
       "      <th></th>\n",
       "      <th>City</th>\n",
       "      <th>Latitude</th>\n",
       "      <th>High Temp</th>\n",
       "      <th>Humidity</th>\n",
       "      <th>Clouds</th>\n",
       "      <th>Wind Speed</th>\n",
       "    </tr>\n",
       "  </thead>\n",
       "  <tbody>\n",
       "    <tr>\n",
       "      <th>0</th>\n",
       "      <td>ribeira grande</td>\n",
       "      <td>38.52</td>\n",
       "      <td>17.293</td>\n",
       "      <td>95</td>\n",
       "      <td>80</td>\n",
       "      <td>9.96</td>\n",
       "    </tr>\n",
       "    <tr>\n",
       "      <th>1</th>\n",
       "      <td>labuhan</td>\n",
       "      <td>-2.54</td>\n",
       "      <td>27.393</td>\n",
       "      <td>84</td>\n",
       "      <td>80</td>\n",
       "      <td>1.36</td>\n",
       "    </tr>\n",
       "    <tr>\n",
       "      <th>2</th>\n",
       "      <td>campbell river</td>\n",
       "      <td>50.02</td>\n",
       "      <td>-6.51</td>\n",
       "      <td>79</td>\n",
       "      <td>75</td>\n",
       "      <td>7.7</td>\n",
       "    </tr>\n",
       "    <tr>\n",
       "      <th>3</th>\n",
       "      <td>atuona</td>\n",
       "      <td>-9.8</td>\n",
       "      <td>27.018</td>\n",
       "      <td>100</td>\n",
       "      <td>64</td>\n",
       "      <td>6.31</td>\n",
       "    </tr>\n",
       "    <tr>\n",
       "      <th>4</th>\n",
       "      <td>mehamn</td>\n",
       "      <td>71.03</td>\n",
       "      <td>-10.5</td>\n",
       "      <td>78</td>\n",
       "      <td>0</td>\n",
       "      <td>3.1</td>\n",
       "    </tr>\n",
       "  </tbody>\n",
       "</table>\n",
       "</div>"
      ],
      "text/plain": [
       "             City Latitude High Temp Humidity Clouds Wind Speed\n",
       "0  ribeira grande    38.52    17.293       95     80       9.96\n",
       "1         labuhan    -2.54    27.393       84     80       1.36\n",
       "2  campbell river    50.02     -6.51       79     75        7.7\n",
       "3          atuona     -9.8    27.018      100     64       6.31\n",
       "4          mehamn    71.03     -10.5       78      0        3.1"
      ]
     },
     "execution_count": 33,
     "metadata": {},
     "output_type": "execute_result"
    }
   ],
   "source": [
    "lat_study.head()"
   ]
  },
  {
   "cell_type": "code",
   "execution_count": 34,
   "metadata": {},
   "outputs": [],
   "source": [
    "lat_study.to_csv('latitude_csv')"
   ]
  },
  {
   "cell_type": "code",
   "execution_count": 50,
   "metadata": {},
   "outputs": [
    {
     "data": {
      "image/png": "[encoded data removed]",
      "text/plain": [
       "<Figure size 432x288 with 1 Axes>"
      ]
     },
     "metadata": {
      "needs_background": "light"
     },
     "output_type": "display_data"
    }
   ],
   "source": [
    "plt.scatter(lat_study['Latitude'], lat_study['Humidity'])\n",
    "plt.xlabel(\"Latitude\")\n",
    "plt.ylabel(\"Humidity\")\n",
    "plt.title(\"Humidity by Latitude\")\n",
    "plt.savefig(fname=\"Humidity_by_Lat\", format=\"png\")"
   ]
  },
  {
   "cell_type": "code",
   "execution_count": 48,
   "metadata": {},
   "outputs": [
    {
     "data": {
      "text/plain": [
       "Text(0.5,1,'Temperature (in Celcius) by Latitude')"
      ]
     },
     "execution_count": 48,
     "metadata": {},
     "output_type": "execute_result"
    },
    {
     "data": {
      "image/png": "[encoded data removed]",
      "text/plain": [
       "<Figure size 432x288 with 1 Axes>"
      ]
     },
     "metadata": {
      "needs_background": "light"
     },
     "output_type": "display_data"
    }
   ],
   "source": [
    "plt.scatter(lat_study[\"Latitude\"], lat_study[\"High Temp\"])\n",
    "plt.xlabel(\"Latitude\")\n",
    "plt.ylabel(\"Temperature (C)\")\n",
    "plt.title(\"Temperature (in Celcius) by Latitude\")\n",
    "plt.savefig(fname=\"Temp_by_Lat\", format=\"png\")"
   ]
  },
  {
   "cell_type": "code",
   "execution_count": 51,
   "metadata": {},
   "outputs": [
    {
     "data": {
      "image/png": "[encoded data removed]",
      "text/plain": [
       "<Figure size 432x288 with 1 Axes>"
      ]
     },
     "metadata": {
      "needs_background": "light"
     },
     "output_type": "display_data"
    }
   ],
   "source": [
    "plt.scatter(lat_study[\"Latitude\"], lat_study[\"Clouds\"])\n",
    "plt.xlabel(\"Latitude\")\n",
    "plt.ylabel(\"Cloudiness\")\n",
    "plt.title(\"Cloudiness by Latitude\")\n",
    "plt.savefig(fname=\"Cloudiness_by_Lat\", format=\"png\")"
   ]
  },
  {
   "cell_type": "code",
   "execution_count": 52,
   "metadata": {},
   "outputs": [
    {
     "data": {
      "image/png": "[encoded data removed]",
      "text/plain": [
       "<Figure size 432x288 with 1 Axes>"
      ]
     },
     "metadata": {
      "needs_background": "light"
     },
     "output_type": "display_data"
    }
   ],
   "source": [
    "plt.scatter(lat_study[\"Latitude\"], lat_study[\"Wind Speed\"])\n",
    "plt.xlabel(\"Latitude\")\n",
    "plt.ylabel(\"Wind Speed\")\n",
    "plt.title(\"Wind Speed by Latitude\")\n",
    "plt.savefig(fname=\"Wind_Speed_by_lat\", format=\"png\")"
   ]
  },
  {
   "cell_type": "code",
   "execution_count": null,
   "metadata": {},
   "outputs": [],
   "source": []
  }
 ],
 "metadata": {
  "kernelspec": {
   "display_name": "Python 3",
   "language": "python",
   "name": "python3"
  },
  "language_info": {
   "codemirror_mode": {
    "name": "ipython",
    "version": 3
   },
   "file_extension": ".py",
   "mimetype": "text/x-python",
   "name": "python",
   "nbconvert_exporter": "python",
   "pygments_lexer": "ipython3",
   "version": "3.7.2"
  }
 },
 "nbformat": 4,
 "nbformat_minor": 2
}
